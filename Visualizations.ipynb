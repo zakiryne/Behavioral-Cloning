{
 "cells": [
  {
   "cell_type": "code",
   "execution_count": 1,
   "metadata": {},
   "outputs": [
    {
     "name": "stderr",
     "output_type": "stream",
     "text": [
      "Using TensorFlow backend.\n"
     ]
    }
   ],
   "source": [
    "import os\n",
    "import csv\n",
    "import cv2\n",
    "import numpy as np\n",
    "import sklearn\n",
    "import matplotlib.pyplot as plt\n",
    "\n",
    "from keras.models import Sequential\n",
    "from keras.layers import Flatten, Dense, Lambda\n",
    "from keras.layers import Conv2D, MaxPooling2D\n",
    "from keras.layers import Cropping2D\n",
    "from keras.layers import Dropout\n",
    "from sklearn.model_selection import train_test_split\n",
    "import random\n",
    "from sklearn.utils import shuffle"
   ]
  },
  {
   "cell_type": "code",
   "execution_count": 19,
   "metadata": {
    "collapsed": true
   },
   "outputs": [],
   "source": [
    "correction = 0.2 # this is a parameter to tune\n",
    "del_rate = 0.8 #0.7\n",
    "cut_value = 0.85"
   ]
  },
  {
   "cell_type": "code",
   "execution_count": 20,
   "metadata": {
    "collapsed": true
   },
   "outputs": [],
   "source": [
    "samples = []\n",
    "with open(\"./data/driving_log.csv\") as csvfile:\n",
    "\treader  = csv.reader(csvfile)\n",
    "\tfor sample in reader:\n",
    "\t\tsamples.append(sample)\n",
    "\t\t\n",
    "del(samples[0]) # delete the first row of column names\n",
    "train_samples, validation_samples = train_test_split(samples, test_size = 0.2)\t"
   ]
  },
  {
   "cell_type": "code",
   "execution_count": 18,
   "metadata": {},
   "outputs": [
    {
     "data": {
      "image/png": "[encoded data removed]",
      "text/plain": [
       "<matplotlib.figure.Figure at 0x7f9e341f8cf8>"
      ]
     },
     "metadata": {},
     "output_type": "display_data"
    }
   ],
   "source": [
    "angles_b4balanced = []\n",
    "for train_sample in train_samples:\n",
    "    source_path = train_sample[0]\n",
    "    filename = source_path.split('/')[-1]\n",
    "    current_path = './data/IMG/' + filename\n",
    "    image = cv2.imread(current_path)\n",
    "    angle = float(train_sample[3])\n",
    "    angles_b4balanced.append(angle)\n",
    "\n",
    "#Histogram before balanced steering anlge---------------------------------------------------------------\n",
    "num_bins = 20\n",
    "n, bins, patches = plt.hist(angles_b4balanced, num_bins, facecolor='blue', alpha=0.5)\n",
    "plt.xlabel('Steering Angles')\n",
    "plt.ylabel('Distribution')\n",
    "plt.title('Before Balanced Angle')\n",
    "plt.show()\t"
   ]
  },
  {
   "cell_type": "code",
   "execution_count": 21,
   "metadata": {},
   "outputs": [],
   "source": [
    "def RandomBrightness(image):\n",
    "    # convert to HSV so that its easy to adjust brightness\n",
    "    RandomImage = cv2.cvtColor(image,cv2.COLOR_RGB2HSV)\n",
    "\n",
    "    # randomly generate the brightness reduction factor\n",
    "    # define boundary so that its not all dark or bright\n",
    "    random_bright = np.random.uniform(0.25, 1)\n",
    "\n",
    "    # Apply the brightness reduction to the V channel\n",
    "    RandomImage[:,:,2] = RandomImage[:,:,2]*random_bright\n",
    "\n",
    "    # convert to RBG again\n",
    "    RandomImage = cv2.cvtColor(RandomImage,cv2.COLOR_HSV2RGB)\n",
    "    return RandomImage"
   ]
  },
  {
   "cell_type": "code",
   "execution_count": 22,
   "metadata": {
    "collapsed": true
   },
   "outputs": [],
   "source": [
    "def generator(samples, batch_size=32):\n",
    "\tnum_samples = len(samples)\n",
    "\t\n",
    "\twhile 1: # Loop forever so the generator never terminates\n",
    "\t\trandom.shuffle(samples)\n",
    "\t\tfor offset in range(0, num_samples, batch_size):\n",
    "\t\t\tbatch_samples = samples[offset:offset+batch_size]\n",
    "\t\t\timages = []\n",
    "\t\t\tsteerings = []\t\n",
    "\t\t\n",
    "\t\t\tfor batch_sample in batch_samples:\n",
    "\t\t\t\tfor i in range(3):\n",
    "\t\t\t\t\tsource_path = batch_sample[i]\n",
    "\t\t\t\t\tfilename = source_path.split('/')[-1]\n",
    "\t\t\t\t\tcurrent_path = './data/IMG/' + filename\n",
    "\t\t\t\t\timage = cv2.imread(current_path)\n",
    "\t\t\t\t\timage = RandomBrightness(image) # random brightness\n",
    "\t\t\t\t\t\n",
    "\t\t\t\t\tif i == 0:\n",
    "\t\t\t\t\t\tsteering = float(batch_sample[3])\n",
    "\t\t\t\t\telif i == 1:\n",
    "\t\t\t\t\t\tsteering = float(batch_sample[3]) + correction # Left\n",
    "\t\t\t\t\telse:\n",
    "\t\t\t\t\t\tsteering = float(batch_sample[3]) - correction # Right\n",
    "\t\t\t\n",
    "\t\t\n",
    "\t\t\t\t\tif abs(steering) > cut_value: \n",
    "\t\t\t\n",
    "\t\t\t\t\t\timages.append(image)\n",
    "\t\t\t\t\t\tsteerings.append(steering)\n",
    "\t\t\t\t\t\timage_flipped = np.fliplr(image)\n",
    "\t\t\t\t\t\tsteering_flipped = -steering\n",
    "\t\t\t\t\t\timages.append(image_flipped)\n",
    "\t\t\t\t\t\tsteerings.append(steering_flipped)\n",
    "\t\t\t\n",
    "\t\t\t\t\telif np.random.random() > del_rate: #delete % of low angle data and duplicate number of images\n",
    "\t\t\t\n",
    "\t\t\t\t\t\timages.append(image)\n",
    "\t\t\t\t\t\tsteerings.append(steering)\n",
    "\t\t\t\t\t\timage_flipped = np.fliplr(image)\n",
    "\t\t\t\t\t\tsteering_flipped = -steering\n",
    "\t\t\t\t\t\timages.append(image_flipped)\n",
    "\t\t\t\t\t\tsteerings.append(steering_flipped)\n",
    "\n",
    "\t\t    \t# trim image to only see section with road\n",
    "\t\t\tX_train = np.array(images)\n",
    "\t\t\ty_train = np.array(steerings)\n",
    "\t\t\tyield shuffle(X_train, y_train)"
   ]
  },
  {
   "cell_type": "code",
   "execution_count": 23,
   "metadata": {
    "collapsed": true
   },
   "outputs": [],
   "source": [
    "# compile and train the model using the generator function\n",
    "train_generator = generator(train_samples, batch_size=32)\n",
    "validation_generator = generator(validation_samples, batch_size=32)"
   ]
  },
  {
   "cell_type": "code",
   "execution_count": 24,
   "metadata": {},
   "outputs": [
    {
     "data": {
      "image/png": "[encoded data removed]",
      "text/plain": [
       "<matplotlib.figure.Figure at 0x7f9e10478cf8>"
      ]
     },
     "metadata": {},
     "output_type": "display_data"
    }
   ],
   "source": [
    "#Histogram after balanced steering angle---------------------------------------------------------------\n",
    "angles = np.array([], dtype=np.float32)\n",
    "for i in range(len(train_samples)):\n",
    "    X_batch, y_batch = next(train_generator)\n",
    "    angles = np.concatenate((angles, y_batch))\n",
    "\n",
    "num_bins = 20\n",
    "n, bins, patches = plt.hist(angles, num_bins, facecolor='blue', alpha=0.5)\n",
    "plt.xlabel('Steering Angles')\n",
    "plt.ylabel('Distribution')\n",
    "plt.title('After Balanced Angle')\n",
    "plt.show()"
   ]
  },
  {
   "cell_type": "code",
   "execution_count": 42,
   "metadata": {
    "collapsed": true
   },
   "outputs": [],
   "source": [
    "#NVIDIA Model-----------------------------------------------------------------------------------------\n",
    "model = Sequential()\n",
    "model.add(Lambda(lambda x: (x / 255.0) - 0.5, input_shape = (160,320,3))) # image normalization\n",
    "model.add(Cropping2D(cropping = ((50,20), (0,0)), input_shape = (160,320,3)))\n",
    "# start adding other model layers here.\n",
    "\n",
    "#Convolution:\n",
    "model.add(Conv2D(24, 5, 5, activation = 'relu'))\n",
    "#MaxPooling:\n",
    "model.add(MaxPooling2D(pool_size = (2, 2)))\n",
    "#Convolution:\n",
    "model.add(Conv2D(36, 5, 5, activation = 'relu'))\n",
    "#MaxPooling:\n",
    "model.add(MaxPooling2D(pool_size = (2, 2)))\n",
    "#Convolution:\n",
    "model.add(Conv2D(48, 3, 3, activation = 'relu'))\n",
    "#MaxPooling:\n",
    "model.add(MaxPooling2D(pool_size = (2, 2)))\n",
    "#Convolution:\n",
    "model.add(Conv2D(64, 3, 3, activation = 'relu'))\n",
    "#MaxPooling:\n",
    "model.add(MaxPooling2D(pool_size = (2, 2)))\n",
    "#Flatten:\n",
    "model.add(Flatten())\n",
    "#Fully Connected:\n",
    "model.add(Dense(1164))\n",
    "model.add(Dropout(0.5))\n",
    "model.add(Dense(100))\n",
    "model.add(Dropout(0.5))\n",
    "model.add(Dense(50))\n",
    "model.add(Dense(10))\n",
    "model.add(Dense(1))"
   ]
  },
  {
   "cell_type": "code",
   "execution_count": 43,
   "metadata": {},
   "outputs": [
    {
     "name": "stdout",
     "output_type": "stream",
     "text": [
      "Epoch 1/5\n",
      "6408/6428 [============================>.] - ETA: 0s - loss: 0.0576"
     ]
    },
    {
     "name": "stderr",
     "output_type": "stream",
     "text": [
      "/home/carnd/anaconda3/envs/carnd-term1/lib/python3.5/site-packages/keras/engine/training.py:1569: UserWarning: Epoch comprised more than `samples_per_epoch` samples, which might affect learning results. Set `samples_per_epoch` correctly to avoid this warning.\n",
      "  warnings.warn('Epoch comprised more than '\n"
     ]
    },
    {
     "name": "stdout",
     "output_type": "stream",
     "text": [
      "6440/6428 [==============================] - 49s - loss: 0.0574 - val_loss: 0.0248\n",
      "Epoch 2/5\n",
      "6440/6428 [==============================] - 48s - loss: 0.0250 - val_loss: 0.0293\n",
      "Epoch 3/5\n",
      "6440/6428 [==============================] - 47s - loss: 0.0237 - val_loss: 0.0286\n",
      "Epoch 4/5\n",
      "6428/6428 [==============================] - 48s - loss: 0.0211 - val_loss: 0.0277\n",
      "Epoch 5/5\n",
      "6442/6428 [==============================] - 47s - loss: 0.0221 - val_loss: 0.0208\n"
     ]
    },
    {
     "data": {
      "text/plain": [
       "<keras.callbacks.History at 0x7f9df4a95c18>"
      ]
     },
     "execution_count": 43,
     "metadata": {},
     "output_type": "execute_result"
    }
   ],
   "source": [
    "#Training----------------------------------------------------------------------------------------------\n",
    "model.compile(loss = 'mse', optimizer = 'adam')\n",
    "#model.fit(X_train, y_train, validation_split = 0.2, shuffle = True, nb_epoch = 5)\n",
    "#model.fit_generator(train_generator, samples_per_epoch = len(train_samples), validation_data = validation_generator, nb_val_samples = len(validation_samples), nb_epoch = 5)\n",
    "model.fit_generator(train_generator, samples_per_epoch = len(train_samples),validation_data = validation_generator, nb_val_samples = len(validation_samples), nb_epoch = 5, verbose = 1)"
   ]
  },
  {
   "cell_type": "code",
   "execution_count": 44,
   "metadata": {
    "collapsed": true
   },
   "outputs": [],
   "source": [
    "#Save the model----------------------------------------------------------------------------------------\n",
    "model.save('model.h5')"
   ]
  },
  {
   "cell_type": "code",
   "execution_count": 45,
   "metadata": {},
   "outputs": [
    {
     "name": "stdout",
     "output_type": "stream",
     "text": [
      "____________________________________________________________________________________________________\n",
      "Layer (type)                     Output Shape          Param #     Connected to                     \n",
      "====================================================================================================\n",
      "lambda_4 (Lambda)                (None, 160, 320, 3)   0           lambda_input_6[0][0]             \n",
      "____________________________________________________________________________________________________\n",
      "cropping2d_4 (Cropping2D)        (None, 90, 320, 3)    0           lambda_4[0][0]                   \n",
      "____________________________________________________________________________________________________\n",
      "convolution2d_13 (Convolution2D) (None, 86, 316, 24)   1824        cropping2d_4[0][0]               \n",
      "____________________________________________________________________________________________________\n",
      "maxpooling2d_13 (MaxPooling2D)   (None, 43, 158, 24)   0           convolution2d_13[0][0]           \n",
      "____________________________________________________________________________________________________\n",
      "convolution2d_14 (Convolution2D) (None, 39, 154, 36)   21636       maxpooling2d_13[0][0]            \n",
      "____________________________________________________________________________________________________\n",
      "maxpooling2d_14 (MaxPooling2D)   (None, 19, 77, 36)    0           convolution2d_14[0][0]           \n",
      "____________________________________________________________________________________________________\n",
      "convolution2d_15 (Convolution2D) (None, 17, 75, 48)    15600       maxpooling2d_14[0][0]            \n",
      "____________________________________________________________________________________________________\n",
      "maxpooling2d_15 (MaxPooling2D)   (None, 8, 37, 48)     0           convolution2d_15[0][0]           \n",
      "____________________________________________________________________________________________________\n",
      "convolution2d_16 (Convolution2D) (None, 6, 35, 64)     27712       maxpooling2d_15[0][0]            \n",
      "____________________________________________________________________________________________________\n",
      "maxpooling2d_16 (MaxPooling2D)   (None, 3, 17, 64)     0           convolution2d_16[0][0]           \n",
      "____________________________________________________________________________________________________\n",
      "flatten_4 (Flatten)              (None, 3264)          0           maxpooling2d_16[0][0]            \n",
      "____________________________________________________________________________________________________\n",
      "dense_16 (Dense)                 (None, 1164)          3800460     flatten_4[0][0]                  \n",
      "____________________________________________________________________________________________________\n",
      "dropout_9 (Dropout)              (None, 1164)          0           dense_16[0][0]                   \n",
      "____________________________________________________________________________________________________\n",
      "dense_17 (Dense)                 (None, 100)           116500      dropout_9[0][0]                  \n",
      "____________________________________________________________________________________________________\n",
      "dropout_10 (Dropout)             (None, 100)           0           dense_17[0][0]                   \n",
      "____________________________________________________________________________________________________\n",
      "dense_18 (Dense)                 (None, 50)            5050        dropout_10[0][0]                 \n",
      "____________________________________________________________________________________________________\n",
      "dense_19 (Dense)                 (None, 10)            510         dense_18[0][0]                   \n",
      "____________________________________________________________________________________________________\n",
      "dense_20 (Dense)                 (None, 1)             11          dense_19[0][0]                   \n",
      "====================================================================================================\n",
      "Total params: 3,989,303\n",
      "Trainable params: 3,989,303\n",
      "Non-trainable params: 0\n",
      "____________________________________________________________________________________________________\n",
      "None\n"
     ]
    }
   ],
   "source": [
    "print(model.summary())"
   ]
  },
  {
   "cell_type": "code",
   "execution_count": 46,
   "metadata": {},
   "outputs": [],
   "source": [
    "from keras.utils.visualize_util import plot\n",
    "from keras.models import load_model\n",
    "\n",
    "#visualize the model\n",
    "modelobj = load_model('model.h5')\n",
    "plot (modelobj, to_file='model.png')"
   ]
  },
  {
   "cell_type": "code",
   "execution_count": null,
   "metadata": {
    "collapsed": true
   },
   "outputs": [],
   "source": []
  },
  {
   "cell_type": "code",
   "execution_count": null,
   "metadata": {
    "collapsed": true
   },
   "outputs": [],
   "source": []
  }
 ],
 "metadata": {
  "kernelspec": {
   "display_name": "Python 3",
   "language": "python",
   "name": "python3"
  },
  "language_info": {
   "codemirror_mode": {
    "name": "ipython",
    "version": 3
   },
   "file_extension": ".py",
   "mimetype": "text/x-python",
   "name": "python",
   "nbconvert_exporter": "python",
   "pygments_lexer": "ipython3",
   "version": "3.5.2"
  },
  "widgets": {
   "state": {},
   "version": "1.1.2"
  }
 },
 "nbformat": 4,
 "nbformat_minor": 2
}
